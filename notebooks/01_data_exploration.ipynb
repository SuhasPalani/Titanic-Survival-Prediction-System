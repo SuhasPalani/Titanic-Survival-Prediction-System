{
 "cells": [
  {
   "cell_type": "code",
   "execution_count": null,
   "id": "53875172",
   "metadata": {
    "vscode": {
     "languageId": "plaintext"
    }
   },
   "outputs": [],
   "source": [
    "# Comprehensive EDA\n",
    "from src.visualization.plots import TitanicVisualizer\n",
    "from src.data.data_loader import DataLoader\n",
    "\n",
    "loader = DataLoader()\n",
    "data = loader.load_train_data()\n",
    "\n",
    "visualizer = TitanicVisualizer()\n",
    "visualizer.comprehensive_eda(data)"
   ]
  }
 ],
 "metadata": {
  "language_info": {
   "name": "python"
  }
 },
 "nbformat": 4,
 "nbformat_minor": 5
}
