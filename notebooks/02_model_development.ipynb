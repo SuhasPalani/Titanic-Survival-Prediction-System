{
 "cells": [
  {
   "cell_type": "code",
   "execution_count": null,
   "id": "ca7604b9",
   "metadata": {
    "vscode": {
     "languageId": "plaintext"
    }
   },
   "outputs": [],
   "source": [
    "# Model development and comparison\n",
    "from src.models.model_trainer import ModelTrainer\n",
    "from src.models.model_evaluator import ModelEvaluator\n",
    "\n",
    "# Train models\n",
    "trainer = ModelTrainer()\n",
    "trainer.train_models(X_train, y_train)\n",
    "\n",
    "# Evaluate\n",
    "evaluator = ModelEvaluator()\n",
    "results = evaluator.evaluate_model(trainer.best_model, X_test, y_test)"
   ]
  }
 ],
 "metadata": {
  "language_info": {
   "name": "python"
  }
 },
 "nbformat": 4,
 "nbformat_minor": 5
}
